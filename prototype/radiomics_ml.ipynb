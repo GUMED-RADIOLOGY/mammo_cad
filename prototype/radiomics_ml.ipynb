{
 "cells": [
  {
   "cell_type": "code",
   "execution_count": null,
   "id": "a7b89884",
   "metadata": {},
   "outputs": [],
   "source": [
    "import numpy as np\n",
    "import pandas as pd\n",
    "from collections import defaultdict\n",
    "\n",
    "from sklearn.model_selection import StratifiedKFold\n",
    "from sklearn.model_selection import cross_val_predict\n",
    "from sklearn.pipeline import Pipeline\n",
    "from sklearn.impute import SimpleImputer\n",
    "from sklearn.preprocessing import StandardScaler\n",
    "from sklearn.linear_model import LogisticRegression\n",
    "from sklearn.svm import SVC\n",
    "from sklearn.ensemble import RandomForestClassifier, GradientBoostingClassifier\n",
    "from sklearn.metrics import (\n",
    "    roc_auc_score, average_precision_score, f1_score,\n",
    "    accuracy_score, brier_score_loss\n",
    ")\n",
    "\n",
    "RANDOM_STATE = 42\n",
    "np.random.seed(RANDOM_STATE)\n",
    "\n",
    "# Load combined_df from CSV in /app/data/processed/\n",
    "combined_df = pd.read_csv(\"/app/data/processed/combined_df.csv\")"
   ]
  },
  {
   "cell_type": "code",
   "execution_count": null,
   "id": "81f12a64",
   "metadata": {},
   "outputs": [
    {
     "name": "stdout",
     "output_type": "stream",
     "text": [
      "Rows: 1905, Radiomics features: 102\n",
      "Class balance (target):\n",
      " 0    0.504\n",
      "1    0.496\n",
      "Name: pct, dtype: float64\n",
      "Done: LogReg_L2\n",
      "Done: LogReg_L2\n",
      "Done: SVM_linear\n",
      "Done: SVM_linear\n",
      "Done: RandomForest\n",
      "Done: RandomForest\n",
      "Done: GradBoost\n",
      "Done: GradBoost\n"
     ]
    },
    {
     "data": {
      "application/vnd.microsoft.datawrangler.viewer.v0+json": {
       "columns": [
        {
         "name": "index",
         "rawType": "int64",
         "type": "integer"
        },
        {
         "name": "model",
         "rawType": "object",
         "type": "string"
        },
        {
         "name": "ROC_AUC_mean",
         "rawType": "float64",
         "type": "float"
        },
        {
         "name": "PR_AUC_mean",
         "rawType": "float64",
         "type": "float"
        },
        {
         "name": "F1_mean",
         "rawType": "float64",
         "type": "float"
        },
        {
         "name": "ACC_mean",
         "rawType": "float64",
         "type": "float"
        },
        {
         "name": "Brier_mean",
         "rawType": "float64",
         "type": "float"
        },
        {
         "name": "ROC_AUC_ci",
         "rawType": "object",
         "type": "string"
        },
        {
         "name": "PR_AUC_ci",
         "rawType": "object",
         "type": "string"
        },
        {
         "name": "F1_ci",
         "rawType": "object",
         "type": "string"
        },
        {
         "name": "ACC_ci",
         "rawType": "object",
         "type": "string"
        },
        {
         "name": "Brier_ci",
         "rawType": "object",
         "type": "string"
        }
       ],
       "ref": "a65823cc-be0e-406e-bb23-65cb112fe3f3",
       "rows": [
        [
         "2",
         "RandomForest",
         "0.6080246913580246",
         "0.6073824594117209",
         "0.555008210180624",
         "0.573228346456693",
         "0.24179373100050613",
         "[0.583, 0.634]",
         "[0.578, 0.646]",
         "[0.530, 0.584]",
         "[0.553, 0.597]",
         "[0.235, 0.248]"
        ],
        [
         "3",
         "GradBoost",
         "0.6034391534391534",
         "0.5979179273217368",
         "0.5522552255225522",
         "0.5727034120734908",
         "0.24812857285977016",
         "[0.579, 0.629]",
         "[0.570, 0.635]",
         "[0.527, 0.579]",
         "[0.552, 0.596]",
         "[0.240, 0.255]"
        ],
        [
         "0",
         "LogReg_L2",
         "0.5929585537918871",
         "0.5887405811223283",
         "0.5523602821486706",
         "0.5669291338582677",
         "0.24550180124269538",
         "[0.569, 0.617]",
         "[0.561, 0.625]",
         "[0.526, 0.578]",
         "[0.546, 0.590]",
         "[0.240, 0.251]"
        ],
        [
         "1",
         "SVM_linear",
         "0.5923622134038801",
         "0.5810896857213116",
         "0.5662198391420912",
         "0.5753280839895013",
         "0.24521575210463709",
         "[0.567, 0.616]",
         "[0.552, 0.615]",
         "[0.540, 0.594]",
         "[0.555, 0.596]",
         "[0.243, 0.247]"
        ]
       ],
       "shape": {
        "columns": 11,
        "rows": 4
       }
      },
      "text/html": [
       "<div>\n",
       "<style scoped>\n",
       "    .dataframe tbody tr th:only-of-type {\n",
       "        vertical-align: middle;\n",
       "    }\n",
       "\n",
       "    .dataframe tbody tr th {\n",
       "        vertical-align: top;\n",
       "    }\n",
       "\n",
       "    .dataframe thead th {\n",
       "        text-align: right;\n",
       "    }\n",
       "</style>\n",
       "<table border=\"1\" class=\"dataframe\">\n",
       "  <thead>\n",
       "    <tr style=\"text-align: right;\">\n",
       "      <th></th>\n",
       "      <th>model</th>\n",
       "      <th>ROC_AUC_mean</th>\n",
       "      <th>PR_AUC_mean</th>\n",
       "      <th>F1_mean</th>\n",
       "      <th>ACC_mean</th>\n",
       "      <th>Brier_mean</th>\n",
       "      <th>ROC_AUC_ci</th>\n",
       "      <th>PR_AUC_ci</th>\n",
       "      <th>F1_ci</th>\n",
       "      <th>ACC_ci</th>\n",
       "      <th>Brier_ci</th>\n",
       "    </tr>\n",
       "  </thead>\n",
       "  <tbody>\n",
       "    <tr>\n",
       "      <th>2</th>\n",
       "      <td>RandomForest</td>\n",
       "      <td>0.608025</td>\n",
       "      <td>0.607382</td>\n",
       "      <td>0.555008</td>\n",
       "      <td>0.573228</td>\n",
       "      <td>0.241794</td>\n",
       "      <td>[0.583, 0.634]</td>\n",
       "      <td>[0.578, 0.646]</td>\n",
       "      <td>[0.530, 0.584]</td>\n",
       "      <td>[0.553, 0.597]</td>\n",
       "      <td>[0.235, 0.248]</td>\n",
       "    </tr>\n",
       "    <tr>\n",
       "      <th>3</th>\n",
       "      <td>GradBoost</td>\n",
       "      <td>0.603439</td>\n",
       "      <td>0.597918</td>\n",
       "      <td>0.552255</td>\n",
       "      <td>0.572703</td>\n",
       "      <td>0.248129</td>\n",
       "      <td>[0.579, 0.629]</td>\n",
       "      <td>[0.570, 0.635]</td>\n",
       "      <td>[0.527, 0.579]</td>\n",
       "      <td>[0.552, 0.596]</td>\n",
       "      <td>[0.240, 0.255]</td>\n",
       "    </tr>\n",
       "    <tr>\n",
       "      <th>0</th>\n",
       "      <td>LogReg_L2</td>\n",
       "      <td>0.592959</td>\n",
       "      <td>0.588741</td>\n",
       "      <td>0.552360</td>\n",
       "      <td>0.566929</td>\n",
       "      <td>0.245502</td>\n",
       "      <td>[0.569, 0.617]</td>\n",
       "      <td>[0.561, 0.625]</td>\n",
       "      <td>[0.526, 0.578]</td>\n",
       "      <td>[0.546, 0.590]</td>\n",
       "      <td>[0.240, 0.251]</td>\n",
       "    </tr>\n",
       "    <tr>\n",
       "      <th>1</th>\n",
       "      <td>SVM_linear</td>\n",
       "      <td>0.592362</td>\n",
       "      <td>0.581090</td>\n",
       "      <td>0.566220</td>\n",
       "      <td>0.575328</td>\n",
       "      <td>0.245216</td>\n",
       "      <td>[0.567, 0.616]</td>\n",
       "      <td>[0.552, 0.615]</td>\n",
       "      <td>[0.540, 0.594]</td>\n",
       "      <td>[0.555, 0.596]</td>\n",
       "      <td>[0.243, 0.247]</td>\n",
       "    </tr>\n",
       "  </tbody>\n",
       "</table>\n",
       "</div>"
      ],
      "text/plain": [
       "          model  ROC_AUC_mean  PR_AUC_mean   F1_mean  ACC_mean  Brier_mean  \\\n",
       "2  RandomForest      0.608025     0.607382  0.555008  0.573228    0.241794   \n",
       "3     GradBoost      0.603439     0.597918  0.552255  0.572703    0.248129   \n",
       "0     LogReg_L2      0.592959     0.588741  0.552360  0.566929    0.245502   \n",
       "1    SVM_linear      0.592362     0.581090  0.566220  0.575328    0.245216   \n",
       "\n",
       "       ROC_AUC_ci       PR_AUC_ci           F1_ci          ACC_ci  \\\n",
       "2  [0.583, 0.634]  [0.578, 0.646]  [0.530, 0.584]  [0.553, 0.597]   \n",
       "3  [0.579, 0.629]  [0.570, 0.635]  [0.527, 0.579]  [0.552, 0.596]   \n",
       "0  [0.569, 0.617]  [0.561, 0.625]  [0.526, 0.578]  [0.546, 0.590]   \n",
       "1  [0.567, 0.616]  [0.552, 0.615]  [0.540, 0.594]  [0.555, 0.596]   \n",
       "\n",
       "         Brier_ci  \n",
       "2  [0.235, 0.248]  \n",
       "3  [0.240, 0.255]  \n",
       "0  [0.240, 0.251]  \n",
       "1  [0.243, 0.247]  "
      ]
     },
     "metadata": {},
     "output_type": "display_data"
    },
    {
     "name": "stdout",
     "output_type": "stream",
     "text": [
      "\n",
      "Top features — LogReg_L2\n"
     ]
    },
    {
     "data": {
      "application/vnd.microsoft.datawrangler.viewer.v0+json": {
       "columns": [
        {
         "name": "index",
         "rawType": "object",
         "type": "string"
        },
        {
         "name": "0",
         "rawType": "float64",
         "type": "float"
        }
       ],
       "ref": "06184535-1496-4cff-8f5e-d5c60abe61a4",
       "rows": [
        [
         "original_glcm_SumEntropy",
         "1.1925430036263345"
        ],
        [
         "original_gldm_DependenceEntropy",
         "0.9367384549053768"
        ],
        [
         "original_gldm_DependenceNonUniformityNormalized",
         "0.85428516974295"
        ],
        [
         "original_gldm_DependenceNonUniformity",
         "0.8399936780953335"
        ],
        [
         "original_ngtdm_Complexity",
         "0.6820998110182077"
        ],
        [
         "original_firstorder_10Percentile",
         "0.5594226964232493"
        ],
        [
         "original_gldm_SmallDependenceLowGrayLevelEmphasis",
         "0.5499065477817162"
        ],
        [
         "original_gldm_SmallDependenceEmphasis",
         "0.5474728973612459"
        ],
        [
         "original_glcm_Idm",
         "0.517412051795099"
        ],
        [
         "original_glrlm_RunLengthNonUniformityNormalized",
         "0.5016805763428006"
        ]
       ],
       "shape": {
        "columns": 1,
        "rows": 10
       }
      },
      "text/plain": [
       "original_glcm_SumEntropy                             1.192543\n",
       "original_gldm_DependenceEntropy                      0.936738\n",
       "original_gldm_DependenceNonUniformityNormalized      0.854285\n",
       "original_gldm_DependenceNonUniformity                0.839994\n",
       "original_ngtdm_Complexity                            0.682100\n",
       "original_firstorder_10Percentile                     0.559423\n",
       "original_gldm_SmallDependenceLowGrayLevelEmphasis    0.549907\n",
       "original_gldm_SmallDependenceEmphasis                0.547473\n",
       "original_glcm_Idm                                    0.517412\n",
       "original_glrlm_RunLengthNonUniformityNormalized      0.501681\n",
       "dtype: float64"
      ]
     },
     "metadata": {},
     "output_type": "display_data"
    },
    {
     "name": "stdout",
     "output_type": "stream",
     "text": [
      "\n",
      "Top features — SVM_linear\n"
     ]
    },
    {
     "data": {
      "application/vnd.microsoft.datawrangler.viewer.v0+json": {
       "columns": [
        {
         "name": "index",
         "rawType": "object",
         "type": "string"
        },
        {
         "name": "0",
         "rawType": "float64",
         "type": "float"
        }
       ],
       "ref": "889dc756-c1e5-4f8a-975e-cecb0a1578b7",
       "rows": [
        [
         "original_glcm_SumEntropy",
         "1.5766506038709889"
        ],
        [
         "original_gldm_DependenceEntropy",
         "1.1799905892611786"
        ],
        [
         "original_ngtdm_Complexity",
         "1.0805018025929383"
        ],
        [
         "original_gldm_DependenceNonUniformityNormalized",
         "1.0772757703954463"
        ],
        [
         "original_glcm_Idm",
         "1.0079482814291911"
        ],
        [
         "original_glcm_InverseVariance",
         "0.9604725869413638"
        ],
        [
         "original_firstorder_10Percentile",
         "0.8706399286500489"
        ],
        [
         "original_glcm_Id",
         "0.7973603347497112"
        ],
        [
         "original_gldm_SmallDependenceLowGrayLevelEmphasis",
         "0.7813610570444937"
        ],
        [
         "original_glrlm_RunPercentage",
         "0.7767841760642583"
        ]
       ],
       "shape": {
        "columns": 1,
        "rows": 10
       }
      },
      "text/plain": [
       "original_glcm_SumEntropy                             1.576651\n",
       "original_gldm_DependenceEntropy                      1.179991\n",
       "original_ngtdm_Complexity                            1.080502\n",
       "original_gldm_DependenceNonUniformityNormalized      1.077276\n",
       "original_glcm_Idm                                    1.007948\n",
       "original_glcm_InverseVariance                        0.960473\n",
       "original_firstorder_10Percentile                     0.870640\n",
       "original_glcm_Id                                     0.797360\n",
       "original_gldm_SmallDependenceLowGrayLevelEmphasis    0.781361\n",
       "original_glrlm_RunPercentage                         0.776784\n",
       "dtype: float64"
      ]
     },
     "metadata": {},
     "output_type": "display_data"
    },
    {
     "name": "stdout",
     "output_type": "stream",
     "text": [
      "\n",
      "Top features — RandomForest\n"
     ]
    },
    {
     "data": {
      "application/vnd.microsoft.datawrangler.viewer.v0+json": {
       "columns": [
        {
         "name": "index",
         "rawType": "object",
         "type": "string"
        },
        {
         "name": "0",
         "rawType": "float64",
         "type": "float"
        }
       ],
       "ref": "f0893f49-65eb-46ac-90ca-4c66d065cba1",
       "rows": [
        [
         "original_shape2D_PerimeterSurfaceRatio",
         "0.02075433480155054"
        ],
        [
         "original_shape2D_Sphericity",
         "0.017279760651974955"
        ],
        [
         "original_shape2D_Elongation",
         "0.01687265969195191"
        ],
        [
         "original_firstorder_Mean",
         "0.013996359398408523"
        ],
        [
         "original_shape2D_Perimeter",
         "0.012588542855617302"
        ],
        [
         "original_shape2D_MinorAxisLength",
         "0.012480510658562101"
        ],
        [
         "original_ngtdm_Coarseness",
         "0.01243649367917266"
        ],
        [
         "original_firstorder_10Percentile",
         "0.012414508276517158"
        ],
        [
         "original_shape2D_MaximumDiameter",
         "0.012273914032542091"
        ],
        [
         "original_glcm_SumSquares",
         "0.01223755005895399"
        ]
       ],
       "shape": {
        "columns": 1,
        "rows": 10
       }
      },
      "text/plain": [
       "original_shape2D_PerimeterSurfaceRatio    0.020754\n",
       "original_shape2D_Sphericity               0.017280\n",
       "original_shape2D_Elongation               0.016873\n",
       "original_firstorder_Mean                  0.013996\n",
       "original_shape2D_Perimeter                0.012589\n",
       "original_shape2D_MinorAxisLength          0.012481\n",
       "original_ngtdm_Coarseness                 0.012436\n",
       "original_firstorder_10Percentile          0.012415\n",
       "original_shape2D_MaximumDiameter          0.012274\n",
       "original_glcm_SumSquares                  0.012238\n",
       "dtype: float64"
      ]
     },
     "metadata": {},
     "output_type": "display_data"
    },
    {
     "name": "stdout",
     "output_type": "stream",
     "text": [
      "\n",
      "Top features — GradBoost\n"
     ]
    },
    {
     "data": {
      "application/vnd.microsoft.datawrangler.viewer.v0+json": {
       "columns": [
        {
         "name": "index",
         "rawType": "object",
         "type": "string"
        },
        {
         "name": "0",
         "rawType": "float64",
         "type": "float"
        }
       ],
       "ref": "ebfa8205-cef9-4d3f-aa34-964a3b9f86eb",
       "rows": [
        [
         "original_shape2D_PerimeterSurfaceRatio",
         "0.096190520860903"
        ],
        [
         "original_shape2D_Elongation",
         "0.049375121844907555"
        ],
        [
         "original_shape2D_Sphericity",
         "0.03524577125985392"
        ],
        [
         "original_firstorder_Median",
         "0.02924398368765627"
        ],
        [
         "original_firstorder_Mean",
         "0.02748823377960659"
        ],
        [
         "original_firstorder_10Percentile",
         "0.02428745840027356"
        ],
        [
         "original_firstorder_Kurtosis",
         "0.023466510158415523"
        ],
        [
         "original_firstorder_Range",
         "0.02177970586321776"
        ],
        [
         "original_gldm_GrayLevelVariance",
         "0.021445251296547792"
        ],
        [
         "original_firstorder_Entropy",
         "0.02035872425887619"
        ]
       ],
       "shape": {
        "columns": 1,
        "rows": 10
       }
      },
      "text/plain": [
       "original_shape2D_PerimeterSurfaceRatio    0.096191\n",
       "original_shape2D_Elongation               0.049375\n",
       "original_shape2D_Sphericity               0.035246\n",
       "original_firstorder_Median                0.029244\n",
       "original_firstorder_Mean                  0.027488\n",
       "original_firstorder_10Percentile          0.024287\n",
       "original_firstorder_Kurtosis              0.023467\n",
       "original_firstorder_Range                 0.021780\n",
       "original_gldm_GrayLevelVariance           0.021445\n",
       "original_firstorder_Entropy               0.020359\n",
       "dtype: float64"
      ]
     },
     "metadata": {},
     "output_type": "display_data"
    }
   ],
   "source": [
    "feature_cols = [c for c in combined_df.columns if c.startswith(\"original_\")]\n",
    "X = combined_df[feature_cols].copy()\n",
    "y = combined_df[\"target\"].astype(int).values\n",
    "\n",
    "print(f\"Rows: {len(y)}, Radiomics features: {len(feature_cols)}\")\n",
    "print(\"Class balance (target):\\n\", pd.Series(y).value_counts(normalize=True).rename(\"pct\").round(3))\n",
    "\n",
    "# 1) Common preprocessor\n",
    "# - median impute\n",
    "# - scale - for linear models\n",
    "preprocess_linear = Pipeline([\n",
    "    (\"impute\", SimpleImputer(strategy=\"median\")),\n",
    "    (\"scale\", StandardScaler())\n",
    "])\n",
    "\n",
    "preprocess_tree = Pipeline([\n",
    "    (\"impute\", SimpleImputer(strategy=\"median\")),\n",
    "    # no scaling for tree-based models\n",
    "])\n",
    "\n",
    "# 2) Models to compare\n",
    "models = {\n",
    "    \"LogReg_L2\": Pipeline([\n",
    "        (\"prep\", preprocess_linear),\n",
    "        (\"clf\", LogisticRegression(\n",
    "            C=1.0, penalty=\"l2\", solver=\"liblinear\",\n",
    "            class_weight=\"balanced\", random_state=RANDOM_STATE\n",
    "        ))\n",
    "    ]),\n",
    "    \"SVM_linear\": Pipeline([\n",
    "        (\"prep\", preprocess_linear),\n",
    "        (\"clf\", SVC(\n",
    "            kernel=\"linear\", C=1.0, probability=True,\n",
    "            class_weight=\"balanced\", random_state=RANDOM_STATE\n",
    "        ))\n",
    "    ]),\n",
    "    \"RandomForest\": Pipeline([\n",
    "        (\"prep\", preprocess_tree),\n",
    "        (\"clf\", RandomForestClassifier(\n",
    "            n_estimators=300, max_depth=None, min_samples_leaf=2,\n",
    "            n_jobs=-1, class_weight=\"balanced\", random_state=RANDOM_STATE\n",
    "        ))\n",
    "    ]),\n",
    "    \"GradBoost\": Pipeline([\n",
    "        (\"prep\", preprocess_tree),\n",
    "        (\"clf\", GradientBoostingClassifier(\n",
    "            learning_rate=0.05, n_estimators=300, max_depth=3,\n",
    "            random_state=RANDOM_STATE\n",
    "        ))\n",
    "    ]),\n",
    "}\n",
    "\n",
    "# 3) CV scheme - stratified KFold\n",
    "cv = StratifiedKFold(n_splits=5, shuffle=True, random_state=RANDOM_STATE)\n",
    "\n",
    "def evaluate_oof(model, X, y, cv):\n",
    "    \"\"\"\n",
    "    Get out-of-fold probabilities and compute metrics.\n",
    "    \"\"\"\n",
    "    oof_proba = cross_val_predict(model, X, y, cv=cv, method=\"predict_proba\", n_jobs=-1)[:, 1]\n",
    "    oof_pred  = (oof_proba >= 0.5).astype(int)\n",
    "\n",
    "    metrics = {\n",
    "        \"ROC_AUC\": roc_auc_score(y, oof_proba),\n",
    "        \"PR_AUC\": average_precision_score(y, oof_proba),\n",
    "        \"F1\": f1_score(y, oof_pred),\n",
    "        \"ACC\": accuracy_score(y, oof_pred),\n",
    "        \"Brier\": brier_score_loss(y, oof_proba),\n",
    "    }\n",
    "    return oof_proba, oof_pred, metrics\n",
    "\n",
    "def bootstrap_ci(y, oof_proba, oof_pred, B=300, seed=RANDOM_STATE):\n",
    "    \"\"\"\n",
    "    Percentile 95% CIs around metrics using bootstrap resamples of OOF predictions.\n",
    "    Keeps data amount fixed; no extra holdout.\n",
    "    \"\"\"\n",
    "    rng = np.random.default_rng(seed)\n",
    "    n = len(y)\n",
    "    stats = defaultdict(list)\n",
    "    for _ in range(B):\n",
    "        idx = rng.integers(0, n, n)\n",
    "        yt = y[idx]\n",
    "        pt = oof_proba[idx]\n",
    "        ht = (pt >= 0.5).astype(int)\n",
    "        # collect\n",
    "        stats[\"ROC_AUC\"].append(roc_auc_score(yt, pt))\n",
    "        stats[\"PR_AUC\"].append(average_precision_score(yt, pt))\n",
    "        stats[\"F1\"].append(f1_score(yt, ht))\n",
    "        stats[\"ACC\"].append(accuracy_score(yt, ht))\n",
    "        stats[\"Brier\"].append(brier_score_loss(yt, pt))\n",
    "    ci = {k: (np.percentile(v, 2.5), np.percentile(v, 97.5)) for k, v in stats.items()}\n",
    "    return ci\n",
    "\n",
    "# 4) Run\n",
    "rows = []\n",
    "oof_store = {}\n",
    "for name, pipe in models.items():\n",
    "    proba, pred, m = evaluate_oof(pipe, X, y, cv)\n",
    "    ci = bootstrap_ci(y, proba, pred, B=300)\n",
    "    rows.append({\n",
    "        \"model\": name,\n",
    "        **{f\"{k}_mean\": v for k, v in m.items()},\n",
    "        **{f\"{k}_ci\": f\"[{ci[k][0]:.3f}, {ci[k][1]:.3f}]\" for k in m.keys()}\n",
    "    })\n",
    "    oof_store[name] = proba\n",
    "    print(f\"Done: {name}\")\n",
    "\n",
    "summary = pd.DataFrame(rows).sort_values(\"ROC_AUC_mean\", ascending=False)\n",
    "display(summary)\n",
    "\n",
    "# 5) Feature importance\n",
    "def top_features_linear(pipe, cols, k=10):\n",
    "    pipe.fit(X, y)\n",
    "    clf = pipe.named_steps[\"clf\"]\n",
    "    if hasattr(clf, \"coef_\"):\n",
    "        w = np.abs(clf.coef_).ravel()\n",
    "        top = pd.Series(w, index=cols).sort_values(ascending=False).head(k)\n",
    "        return top\n",
    "    return None\n",
    "\n",
    "def top_features_tree(pipe, cols, k=10):\n",
    "    pipe.fit(X, y)\n",
    "    clf = pipe.named_steps[\"clf\"]\n",
    "    if hasattr(clf, \"feature_importances_\"):\n",
    "        imp = pd.Series(clf.feature_importances_, index=cols).sort_values(ascending=False).head(k)\n",
    "        return imp\n",
    "    return None\n",
    "\n",
    "for name in [\"LogReg_L2\", \"SVM_linear\", \"RandomForest\", \"GradBoost\"]:\n",
    "    if name not in models: \n",
    "        continue\n",
    "    if any(x in name for x in [\"LogReg\", \"SVM\"]):\n",
    "        tf = top_features_linear(models[name], feature_cols, k=10)\n",
    "    else:\n",
    "        tf = top_features_tree(models[name], feature_cols, k=10)\n",
    "    if tf is not None:\n",
    "        print(f\"\\nTop features — {name}\")\n",
    "        display(tf)"
   ]
  }
 ],
 "metadata": {
  "kernelspec": {
   "display_name": "base",
   "language": "python",
   "name": "python3"
  },
  "language_info": {
   "codemirror_mode": {
    "name": "ipython",
    "version": 3
   },
   "file_extension": ".py",
   "mimetype": "text/x-python",
   "name": "python",
   "nbconvert_exporter": "python",
   "pygments_lexer": "ipython3",
   "version": "3.11.13"
  }
 },
 "nbformat": 4,
 "nbformat_minor": 5
}
